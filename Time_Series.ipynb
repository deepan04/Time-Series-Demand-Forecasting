{
 "cells": [
  {
   "cell_type": "markdown",
   "metadata": {},
   "source": [
    "# Time Series Forecasting\n",
    "\n",
    "### Name: Deepan Sanghavi"
   ]
  },
  {
   "cell_type": "code",
   "execution_count": 1,
   "metadata": {
    "collapsed": true
   },
   "outputs": [],
   "source": [
    "import pandas as pd\n",
    "import numpy as np\n",
    "from numpy import inf\n",
    "from matplotlib import pyplot as plt\n",
    "import ipywidgets as widgets\n",
    "from ipywidgets import interact, interactive, fixed, interact_manual\n",
    "import seaborn as sns\n",
    "from pandas.tools.plotting import autocorrelation_plot\n",
    "from statsmodels.tsa.arima_model import ARIMA\n",
    "import warnings\n",
    "from sklearn.cluster import KMeans\n",
    "from scipy.spatial.distance import cdist\n",
    "from statsmodels.graphics.tsaplots import plot_acf, plot_pacf\n",
    "from statsmodels.tsa.seasonal import seasonal_decompose\n",
    "import statsmodels.api as sm\n",
    "from statsmodels.tsa.stattools import adfuller\n",
    "from sklearn.metrics import mean_squared_error\n",
    "from math import sqrt"
   ]
  },
  {
   "cell_type": "markdown",
   "metadata": {},
   "source": [
    "##### Reading Data From CSV and putting in dictionary"
   ]
  },
  {
   "cell_type": "code",
   "execution_count": 2,
   "metadata": {},
   "outputs": [
    {
     "data": {
      "text/html": [
       "<div>\n",
       "<table border=\"1\" class=\"dataframe\">\n",
       "  <thead>\n",
       "    <tr style=\"text-align: right;\">\n",
       "      <th></th>\n",
       "      <th>Item_Number</th>\n",
       "      <th>Historical_Period_1</th>\n",
       "      <th>Historical_Period_2</th>\n",
       "      <th>Historical_Period_3</th>\n",
       "      <th>Historical_Period_4</th>\n",
       "      <th>Historical_Period_5</th>\n",
       "      <th>Historical_Period_6</th>\n",
       "      <th>Historical_Period_7</th>\n",
       "      <th>Historical_Period_8</th>\n",
       "      <th>Historical_Period_9</th>\n",
       "      <th>...</th>\n",
       "      <th>Historical_Period_147</th>\n",
       "      <th>Historical_Period_148</th>\n",
       "      <th>Historical_Period_149</th>\n",
       "      <th>Historical_Period_150</th>\n",
       "      <th>Historical_Period_151</th>\n",
       "      <th>Historical_Period_152</th>\n",
       "      <th>Historical_Period_153</th>\n",
       "      <th>Historical_Period_154</th>\n",
       "      <th>Historical_Period_155</th>\n",
       "      <th>Historical_Period_156</th>\n",
       "    </tr>\n",
       "  </thead>\n",
       "  <tbody>\n",
       "    <tr>\n",
       "      <th>0</th>\n",
       "      <td>204000</td>\n",
       "      <td>0</td>\n",
       "      <td>2</td>\n",
       "      <td>4</td>\n",
       "      <td>3</td>\n",
       "      <td>0</td>\n",
       "      <td>0</td>\n",
       "      <td>0</td>\n",
       "      <td>0</td>\n",
       "      <td>1</td>\n",
       "      <td>...</td>\n",
       "      <td>7</td>\n",
       "      <td>19</td>\n",
       "      <td>10</td>\n",
       "      <td>13</td>\n",
       "      <td>9</td>\n",
       "      <td>17</td>\n",
       "      <td>12</td>\n",
       "      <td>32</td>\n",
       "      <td>19</td>\n",
       "      <td>24</td>\n",
       "    </tr>\n",
       "    <tr>\n",
       "      <th>1</th>\n",
       "      <td>799620</td>\n",
       "      <td>0</td>\n",
       "      <td>0</td>\n",
       "      <td>0</td>\n",
       "      <td>0</td>\n",
       "      <td>0</td>\n",
       "      <td>0</td>\n",
       "      <td>0</td>\n",
       "      <td>0</td>\n",
       "      <td>0</td>\n",
       "      <td>...</td>\n",
       "      <td>13</td>\n",
       "      <td>19</td>\n",
       "      <td>2</td>\n",
       "      <td>10</td>\n",
       "      <td>5</td>\n",
       "      <td>6</td>\n",
       "      <td>30</td>\n",
       "      <td>14</td>\n",
       "      <td>16</td>\n",
       "      <td>12</td>\n",
       "    </tr>\n",
       "    <tr>\n",
       "      <th>2</th>\n",
       "      <td>13820000</td>\n",
       "      <td>0</td>\n",
       "      <td>0</td>\n",
       "      <td>0</td>\n",
       "      <td>4</td>\n",
       "      <td>25</td>\n",
       "      <td>16</td>\n",
       "      <td>22</td>\n",
       "      <td>14</td>\n",
       "      <td>30</td>\n",
       "      <td>...</td>\n",
       "      <td>40</td>\n",
       "      <td>0</td>\n",
       "      <td>25</td>\n",
       "      <td>26</td>\n",
       "      <td>29</td>\n",
       "      <td>23</td>\n",
       "      <td>19</td>\n",
       "      <td>15</td>\n",
       "      <td>66</td>\n",
       "      <td>24</td>\n",
       "    </tr>\n",
       "    <tr>\n",
       "      <th>3</th>\n",
       "      <td>9.92E+15</td>\n",
       "      <td>0</td>\n",
       "      <td>6</td>\n",
       "      <td>9</td>\n",
       "      <td>1</td>\n",
       "      <td>3</td>\n",
       "      <td>34</td>\n",
       "      <td>8</td>\n",
       "      <td>0</td>\n",
       "      <td>6</td>\n",
       "      <td>...</td>\n",
       "      <td>0</td>\n",
       "      <td>0</td>\n",
       "      <td>0</td>\n",
       "      <td>0</td>\n",
       "      <td>1</td>\n",
       "      <td>10</td>\n",
       "      <td>11</td>\n",
       "      <td>2</td>\n",
       "      <td>12</td>\n",
       "      <td>25</td>\n",
       "    </tr>\n",
       "    <tr>\n",
       "      <th>4</th>\n",
       "      <td>007f74</td>\n",
       "      <td>226</td>\n",
       "      <td>181</td>\n",
       "      <td>371</td>\n",
       "      <td>246</td>\n",
       "      <td>225</td>\n",
       "      <td>199</td>\n",
       "      <td>236</td>\n",
       "      <td>101</td>\n",
       "      <td>556</td>\n",
       "      <td>...</td>\n",
       "      <td>27</td>\n",
       "      <td>45</td>\n",
       "      <td>59</td>\n",
       "      <td>29</td>\n",
       "      <td>114</td>\n",
       "      <td>108</td>\n",
       "      <td>31</td>\n",
       "      <td>48</td>\n",
       "      <td>60</td>\n",
       "      <td>37</td>\n",
       "    </tr>\n",
       "  </tbody>\n",
       "</table>\n",
       "<p>5 rows × 157 columns</p>\n",
       "</div>"
      ],
      "text/plain": [
       "  Item_Number  Historical_Period_1  Historical_Period_2  Historical_Period_3  \\\n",
       "0      204000                    0                    2                    4   \n",
       "1      799620                    0                    0                    0   \n",
       "2    13820000                    0                    0                    0   \n",
       "3    9.92E+15                    0                    6                    9   \n",
       "4      007f74                  226                  181                  371   \n",
       "\n",
       "   Historical_Period_4  Historical_Period_5  Historical_Period_6  \\\n",
       "0                    3                    0                    0   \n",
       "1                    0                    0                    0   \n",
       "2                    4                   25                   16   \n",
       "3                    1                    3                   34   \n",
       "4                  246                  225                  199   \n",
       "\n",
       "   Historical_Period_7  Historical_Period_8  Historical_Period_9  \\\n",
       "0                    0                    0                    1   \n",
       "1                    0                    0                    0   \n",
       "2                   22                   14                   30   \n",
       "3                    8                    0                    6   \n",
       "4                  236                  101                  556   \n",
       "\n",
       "           ...            Historical_Period_147  Historical_Period_148  \\\n",
       "0          ...                                7                     19   \n",
       "1          ...                               13                     19   \n",
       "2          ...                               40                      0   \n",
       "3          ...                                0                      0   \n",
       "4          ...                               27                     45   \n",
       "\n",
       "   Historical_Period_149  Historical_Period_150  Historical_Period_151  \\\n",
       "0                     10                     13                      9   \n",
       "1                      2                     10                      5   \n",
       "2                     25                     26                     29   \n",
       "3                      0                      0                      1   \n",
       "4                     59                     29                    114   \n",
       "\n",
       "   Historical_Period_152  Historical_Period_153  Historical_Period_154  \\\n",
       "0                     17                     12                     32   \n",
       "1                      6                     30                     14   \n",
       "2                     23                     19                     15   \n",
       "3                     10                     11                      2   \n",
       "4                    108                     31                     48   \n",
       "\n",
       "   Historical_Period_155  Historical_Period_156  \n",
       "0                     19                     24  \n",
       "1                     16                     12  \n",
       "2                     66                     24  \n",
       "3                     12                     25  \n",
       "4                     60                     37  \n",
       "\n",
       "[5 rows x 157 columns]"
      ]
     },
     "execution_count": 2,
     "metadata": {},
     "output_type": "execute_result"
    }
   ],
   "source": [
    "data = pd.read_csv(\"./Forecasting_Exercise.csv\")\n",
    "data.columns = [c.replace(' ', '_') for c in data.columns]\n",
    "data.head()\n"
   ]
  },
  {
   "cell_type": "markdown",
   "metadata": {
    "collapsed": true
   },
   "source": [
    "##### Data Exploration\n",
    "\n",
    "- I started with visualizing each product wise and tried to understand at randome plots of few products. Information that I got initially is there are products whose plots did not look stationary and there were few additive and more than few multiplicative trends. Further, there are few plots which have lot of zeroes initially and suddenly spikes up.\n",
    "- Such trends can be managed if we can remove the multiplicative factor from it. Moreover, there were seasonal component as well which needs to be removed for stationary assumption. As there are 100 products, it is difficult to visualize each plots.\n",
    "- So, I decided to **Cluster** all the products and analyze products based on which category of cluster they fall into. Over here, I am trying to find similar combination so that I can perform similar operations on similar series"
   ]
  },
  {
   "cell_type": "code",
   "execution_count": 3,
   "metadata": {},
   "outputs": [
    {
     "data": {
      "image/png": "[encoded data removed]",
      "text/plain": [
       "<matplotlib.figure.Figure at 0xcefcbe0>"
      ]
     },
     "metadata": {},
     "output_type": "display_data"
    },
    {
     "data": {
      "text/plain": [
       "<function __main__.filter_based_on_product>"
      ]
     },
     "execution_count": 3,
     "metadata": {},
     "output_type": "execute_result"
    }
   ],
   "source": [
    "def filter_based_on_product(Products):\n",
    "    sns.set(style=\"whitegrid\", color_codes=True)\n",
    "    temp = data.loc[data[\"Item_Number\"] == Products]\n",
    "    x = temp.iloc[0,1:].tolist()\n",
    "    fig=plt.figure(figsize=(10, 5))\n",
    "    plt.plot(x)\n",
    "    plt.ylabel('Demand')\n",
    "    plt.xlabel(\"Item Number: \"+ Products)\n",
    "    plt.show()\n",
    "interact(filter_based_on_product, Products=data.Item_Number.unique().tolist())"
   ]
  },
  {
   "cell_type": "markdown",
   "metadata": {},
   "source": [
    "##### Clustering\n",
    "\n",
    "- Before Applying Clustering, first I need to find out number of cluster which can be done using elbow method.\n",
    "- Using euclidean distance, I are measuring distance between clusters and data point"
   ]
  },
  {
   "cell_type": "code",
   "execution_count": 5,
   "metadata": {},
   "outputs": [
    {
     "data": {
      "image/png": "[encoded data removed]",
      "text/plain": [
       "<matplotlib.figure.Figure at 0xc4c05c0>"
      ]
     },
     "metadata": {},
     "output_type": "display_data"
    }
   ],
   "source": [
    "#Calculating euclidean distance from each cluster and plotting for elbow curve (Decide number of clusters)\n",
    "new_DF = data\n",
    "distortions = []\n",
    "K = range(1,10)\n",
    "X = new_DF.iloc[:,1:]\n",
    "for k in K:\n",
    "    kmeanModel = KMeans(n_clusters=k).fit(X)\n",
    "    kmeanModel.fit(X)\n",
    "    distortions.append(sum(np.min(cdist(X, kmeanModel.cluster_centers_, 'euclidean'), axis=1)) / X.shape[0])\n",
    "# Plot the elbow\n",
    "plt.plot(K, distortions, 'bx-')\n",
    "plt.xlabel('k')\n",
    "plt.ylabel('Distortion')\n",
    "plt.title('The Elbow Method showing the optimal k')\n",
    "plt.show()"
   ]
  },
  {
   "cell_type": "markdown",
   "metadata": {},
   "source": [
    "- Once Clustering is done, I are applying K-means which uses euclidean distance between centroids of clusters as measure to distinguish data points. From, Elbow method, we got the number of clusters=5 which is given as an input to k-means.\n",
    "\n",
    "- Once, clusters are found, I am keeping a track of Product - Cluster which it belongs to relationship. Also, just for knowledge, I am checking number of products given to each cluster. We can see that, there are large number of products to cluster 0 and hence there are large number of similar products."
   ]
  },
  {
   "cell_type": "code",
   "execution_count": 6,
   "metadata": {},
   "outputs": [
    {
     "data": {
      "image/png": "[encoded data removed]",
      "text/plain": [
       "<matplotlib.figure.Figure at 0xc4c02b0>"
      ]
     },
     "metadata": {},
     "output_type": "display_data"
    },
    {
     "data": {
      "text/html": [
       "<div>\n",
       "<table border=\"1\" class=\"dataframe\">\n",
       "  <thead>\n",
       "    <tr style=\"text-align: right;\">\n",
       "      <th></th>\n",
       "      <th>Cluster</th>\n",
       "      <th>Product_ID</th>\n",
       "    </tr>\n",
       "  </thead>\n",
       "  <tbody>\n",
       "    <tr>\n",
       "      <th>0</th>\n",
       "      <td>0</td>\n",
       "      <td>5f3dc6</td>\n",
       "    </tr>\n",
       "    <tr>\n",
       "      <th>1</th>\n",
       "      <td>1</td>\n",
       "      <td>204000</td>\n",
       "    </tr>\n",
       "    <tr>\n",
       "      <th>2</th>\n",
       "      <td>2</td>\n",
       "      <td>68c583</td>\n",
       "    </tr>\n",
       "    <tr>\n",
       "      <th>3</th>\n",
       "      <td>3</td>\n",
       "      <td>679a21</td>\n",
       "    </tr>\n",
       "    <tr>\n",
       "      <th>4</th>\n",
       "      <td>4</td>\n",
       "      <td>007f74</td>\n",
       "    </tr>\n",
       "  </tbody>\n",
       "</table>\n",
       "</div>"
      ],
      "text/plain": [
       "   Cluster Product_ID\n",
       "0        0     5f3dc6\n",
       "1        1     204000\n",
       "2        2     68c583\n",
       "3        3     679a21\n",
       "4        4     007f74"
      ]
     },
     "execution_count": 6,
     "metadata": {},
     "output_type": "execute_result"
    }
   ],
   "source": [
    "#Number of clusters are 4\n",
    "\n",
    "#Applying K means\n",
    "\n",
    "kmeans = KMeans(n_clusters = 5)\n",
    "kmeans.fit(X)\n",
    "y_kmeans = kmeans.predict(X)\n",
    "\n",
    "#Cluster Distribution\n",
    "kmeans_labels = pd.DataFrame(kmeans.labels_, columns = [\"Cluster\"])\n",
    "kmeans_labels[\"Product_ID\"] = pd.DataFrame(new_DF['Item_Number'])\n",
    "plt.bar(kmeans_labels.Cluster.value_counts().index,kmeans_labels.Cluster.value_counts().values)\n",
    "plt.show()\n",
    "\n",
    "#Cluster Product Combination\n",
    "clusterDF = kmeans_labels.groupby('Cluster').first().reset_index()\n",
    "clusterDF.head()"
   ]
  },
  {
   "cell_type": "markdown",
   "metadata": {},
   "source": [
    "##### Identify P (AR component),Q (MA component) values for ARIMA\n",
    "\n",
    "- Once clusters are identified which is 5 in our case, next step is to find out p and q values by looking at the autocorrelation and partial autocorrelation plots. Below I have shown interactive way to see the plot based on clusters."
   ]
  },
  {
   "cell_type": "code",
   "execution_count": 16,
   "metadata": {},
   "outputs": [
    {
     "name": "stdout",
     "output_type": "stream",
     "text": [
      "0\n"
     ]
    },
    {
     "data": {
      "text/plain": [
       "<matplotlib.figure.Figure at 0xdb6b0f0>"
      ]
     },
     "metadata": {},
     "output_type": "display_data"
    },
    {
     "data": {
      "image/png": "[encoded data removed]",
      "text/plain": [
       "<matplotlib.figure.Figure at 0xda8a278>"
      ]
     },
     "metadata": {},
     "output_type": "display_data"
    },
    {
     "data": {
      "image/png": "[encoded data removed]",
      "text/plain": [
       "<matplotlib.figure.Figure at 0xde2e748>"
      ]
     },
     "metadata": {},
     "output_type": "display_data"
    },
    {
     "data": {
      "text/plain": [
       "<function __main__.autocorrelation_based_on_cluster>"
      ]
     },
     "execution_count": 16,
     "metadata": {},
     "output_type": "execute_result"
    }
   ],
   "source": [
    "#Check autocorrelation and partial correlation plots for ARIMA\n",
    "\n",
    "def autocorrelation_based_on_cluster(Clusters):\n",
    "    sns.set(style=\"whitegrid\", color_codes=True)\n",
    "    yy = str(clusterDF.loc[clusterDF[\"Cluster\"] == int(Clusters),\"Product_ID\"].values[0])\n",
    "    #print(yy)\n",
    "    temp = new_DF.loc[new_DF[\"Item_Number\"] == yy]\n",
    "    temp\n",
    "    x = temp.iloc[0,1:].tolist()\n",
    "    fig=plt.figure(figsize = (20, 10))\n",
    "    plot_acf(x, lags = 52)\n",
    "    plot_pacf(x, lags = 52)\n",
    "    plt.show()\n",
    "interact(autocorrelation_based_on_cluster, Clusters = clusterDF.Cluster.unique().tolist())"
   ]
  },
  {
   "cell_type": "markdown",
   "metadata": {},
   "source": [
    "Based on above graphs, I have hardcoded the p and q values for ARIMA"
   ]
  },
  {
   "cell_type": "code",
   "execution_count": null,
   "metadata": {
    "collapsed": true
   },
   "outputs": [],
   "source": [
    "#Define p,d,q value for each cluster\n",
    "\n",
    "pq_dict = {0: (4, 0, 1), 1: (5, 0, 1), 2: (3, 0, 1), 3: (3, 0, 2), 4: (4, 0, 1)}\n",
    "# pq_dict"
   ]
  },
  {
   "cell_type": "code",
   "execution_count": 644,
   "metadata": {
    "collapsed": true
   },
   "outputs": [],
   "source": [
    "#transposing data for ease\n",
    "data_transpose = data.transpose()\n",
    "data_transpose.columns = data_transpose.iloc[0]\n",
    "data_transpose = data_transpose.drop([\"Item_Number\"])\n",
    "#data_transpose.head()"
   ]
  },
  {
   "cell_type": "markdown",
   "metadata": {},
   "source": [
    "##### Making the data stationary\n",
    "\n",
    "- A series is stationary means its means and variance are constant over time.\n",
    "\n",
    "- Basic requirement for ARIMA is that the input series should be stationary. Firstly, using Dickey-Fuller test (ADF), we are finding whether the series is stationary or not. According to ADF test, null hypothesis is the series is non stationary and hence, if p value is less than 0.05, that means series is stationary.\n",
    "\n",
    "- If series is not stationary, we have to make it stationary by removing trend and seasonality from the series. This can be done by using Seasonal Trend decomposition using Loess method or by differencing the series. My method is to apply log tranform first so that it is robust against outliers, than apply decomposition and identify all components. After that, remove trend and seasonality and bring the data back to original scale by taking exponential of data. **Beware of infinty values**\n",
    "\n",
    "- Hence, I am creating stationary series and storing it in dictionary with key as a product and value as the series.\n",
    "\n",
    "- Below graph has 4 components: Actual, Trend, Seasonality, Noise\n",
    "\n",
    "- Important aspect of this logic is finding out whether series is multiplicative or additive. As we have 100 combinations, it is difficult to find out. But, technique that I am using is I am comparing mean of two halves and if there is large difference than it is multiplicative or else assitive. I did this because there are large number of records where initially there are small values and then it increases in multilicative way.\n",
    "\n",
    "- Additive series = Trend + Seasonality + noise\n",
    "\n",
    "- Multiplicative = Trend * Seasonality * Noise"
   ]
  },
  {
   "cell_type": "code",
   "execution_count": 708,
   "metadata": {},
   "outputs": [
    {
     "data": {
      "image/png": "[encoded data removed]",
      "text/plain": [
       "<matplotlib.figure.Figure at 0x15aa80f0>"
      ]
     },
     "metadata": {},
     "output_type": "display_data"
    }
   ],
   "source": [
    "#Output of this block is stationary series\n",
    "\n",
    "trend = seasonal = observed = no_trend_seasonal = 0\n",
    "def decomposition(data,x):\n",
    "    global trend, seasonal, residual, observed, no_trend_seasonal\n",
    "    data=data.apply(pd.to_numeric,axis=0)\n",
    "    data=data.apply(np.log,axis=0)\n",
    "    data=data.replace(-np.inf,0)\n",
    "    decomposition = seasonal_decompose(data.iloc[:,x].tolist(),freq=52)\n",
    "    \n",
    "    trend = decomposition.trend\n",
    "    seasonal = decomposition.seasonal\n",
    "    residual = decomposition.resid\n",
    "    observed=decomposition.observed\n",
    "    first_half_mean=np.mean(observed[:78])\n",
    "    second_half_mean=np.mean(observed[78:])\n",
    "    \n",
    "    #multiplicative or addtiive\n",
    "    if(second_half_mean/(first_half_mean+0.1)>5):\n",
    "        no_trend_seasonal=(observed/trend)/seasonal\n",
    "    else:\n",
    "        no_trend_seasonal=observed-trend-seasonal\n",
    "    \n",
    "    no_trend_seasonal=np.exp(no_trend_seasonal)\n",
    "    no_trend_seasonal[no_trend_seasonal== inf]=0\n",
    "    no_trend_seasonal[no_trend_seasonal== -inf]=0\n",
    "    if(x==(len(data_transpose.columns)-1)):\n",
    "        plt.subplot(411)\n",
    "        plt.plot(data.iloc[0,1:].tolist(), label='_nolegend_')\n",
    "        plt.subplot(412)\n",
    "        plt.plot(trend, label='_nolegend_')\n",
    "        plt.subplot(413)\n",
    "        plt.plot(seasonal,label='_nolegend_')\n",
    "        plt.subplot(414)\n",
    "        plt.plot(residual, label='_nolegend_')\n",
    "        plt.tight_layout()\n",
    "        plt.show()\n",
    "    return (no_trend_seasonal)\n",
    "\n",
    "\n",
    "def adf_test(data,x):\n",
    "    data=data.iloc[:,x].tolist()\n",
    "    #print(type(data))\n",
    "    #data=data[np.logical_not(np.isnan(data))]\n",
    "    dftest = adfuller((data), autolag='AIC')\n",
    "    dfoutput = pd.Series(dftest[0:4], index=['Test Statistic','p-value','#Lags Used','Number of Observations Used'])\n",
    "    for key,value in dftest[4].items():\n",
    "        dfoutput['Critical Value (%s)'%key] = value\n",
    "    #print dfoutput\n",
    "    return dfoutput[1]<0.05\n",
    "\n",
    "\n",
    "#If not stationary then decompose and make it stationary\n",
    "\n",
    "dict_series={}\n",
    "for x in range(0,len(data_transpose.columns)):\n",
    "    product_id = data_transpose.columns[x]\n",
    "    stationary = adf_test(data_transpose,x)\n",
    "    #print(stationary)\n",
    "    if(not stationary):\n",
    "        dict_series[product_id] = np.asarray(decomposition(data_transpose,x))\n",
    "    else:\n",
    "        dict_series[product_id] = np.asarray(data_transpose.iloc[:,x].tolist())"
   ]
  },
  {
   "cell_type": "markdown",
   "metadata": {},
   "source": [
    "- I handled NaN values over here because while decomposition, it performs Moving average with window size 52 and because of that, initial 26 values and last 26 values become NaN.\n",
    "- These values are being replaced by mean of the series because that is the most basic approach that is being followed while dealing with time series.\n",
    "\n",
    "- Also, I am saving all the stationary series in new_DF which will be used further in ARIMA"
   ]
  },
  {
   "cell_type": "code",
   "execution_count": 709,
   "metadata": {},
   "outputs": [
    {
     "data": {
      "text/html": [
       "<div>\n",
       "<style>\n",
       "    .dataframe thead tr:only-child th {\n",
       "        text-align: right;\n",
       "    }\n",
       "\n",
       "    .dataframe thead th {\n",
       "        text-align: left;\n",
       "    }\n",
       "\n",
       "    .dataframe tbody tr th {\n",
       "        vertical-align: top;\n",
       "    }\n",
       "</style>\n",
       "<table border=\"1\" class=\"dataframe\">\n",
       "  <thead>\n",
       "    <tr style=\"text-align: right;\">\n",
       "      <th></th>\n",
       "      <th>Item_Number</th>\n",
       "      <th>0</th>\n",
       "      <th>1</th>\n",
       "      <th>2</th>\n",
       "      <th>3</th>\n",
       "      <th>4</th>\n",
       "      <th>5</th>\n",
       "      <th>6</th>\n",
       "      <th>7</th>\n",
       "      <th>8</th>\n",
       "      <th>...</th>\n",
       "      <th>146</th>\n",
       "      <th>147</th>\n",
       "      <th>148</th>\n",
       "      <th>149</th>\n",
       "      <th>150</th>\n",
       "      <th>151</th>\n",
       "      <th>152</th>\n",
       "      <th>153</th>\n",
       "      <th>154</th>\n",
       "      <th>155</th>\n",
       "    </tr>\n",
       "  </thead>\n",
       "  <tbody>\n",
       "    <tr>\n",
       "      <th>0</th>\n",
       "      <td>007f74</td>\n",
       "      <td>226.000000</td>\n",
       "      <td>181.000000</td>\n",
       "      <td>371.000000</td>\n",
       "      <td>246.000000</td>\n",
       "      <td>225.000000</td>\n",
       "      <td>199.000000</td>\n",
       "      <td>236.000000</td>\n",
       "      <td>101.000000</td>\n",
       "      <td>556.000000</td>\n",
       "      <td>...</td>\n",
       "      <td>27.000000</td>\n",
       "      <td>45.000000</td>\n",
       "      <td>59.000000</td>\n",
       "      <td>29.000000</td>\n",
       "      <td>114.000000</td>\n",
       "      <td>108.000000</td>\n",
       "      <td>31.000000</td>\n",
       "      <td>48.000000</td>\n",
       "      <td>60.000000</td>\n",
       "      <td>37.000000</td>\n",
       "    </tr>\n",
       "    <tr>\n",
       "      <th>1</th>\n",
       "      <td>022fa2</td>\n",
       "      <td>0.974722</td>\n",
       "      <td>0.974722</td>\n",
       "      <td>0.974722</td>\n",
       "      <td>0.974722</td>\n",
       "      <td>0.974722</td>\n",
       "      <td>0.974722</td>\n",
       "      <td>0.974722</td>\n",
       "      <td>0.974722</td>\n",
       "      <td>0.974722</td>\n",
       "      <td>...</td>\n",
       "      <td>0.974722</td>\n",
       "      <td>0.974722</td>\n",
       "      <td>0.974722</td>\n",
       "      <td>0.974722</td>\n",
       "      <td>0.974722</td>\n",
       "      <td>0.974722</td>\n",
       "      <td>0.974722</td>\n",
       "      <td>0.974722</td>\n",
       "      <td>0.974722</td>\n",
       "      <td>0.974722</td>\n",
       "    </tr>\n",
       "    <tr>\n",
       "      <th>2</th>\n",
       "      <td>0c73cc</td>\n",
       "      <td>0.000000</td>\n",
       "      <td>0.000000</td>\n",
       "      <td>0.000000</td>\n",
       "      <td>0.000000</td>\n",
       "      <td>0.000000</td>\n",
       "      <td>0.000000</td>\n",
       "      <td>0.000000</td>\n",
       "      <td>0.000000</td>\n",
       "      <td>0.000000</td>\n",
       "      <td>...</td>\n",
       "      <td>26.000000</td>\n",
       "      <td>0.000000</td>\n",
       "      <td>30.000000</td>\n",
       "      <td>109.000000</td>\n",
       "      <td>22.000000</td>\n",
       "      <td>13.000000</td>\n",
       "      <td>44.000000</td>\n",
       "      <td>32.000000</td>\n",
       "      <td>6.000000</td>\n",
       "      <td>8.000000</td>\n",
       "    </tr>\n",
       "    <tr>\n",
       "      <th>3</th>\n",
       "      <td>0eefff</td>\n",
       "      <td>80.000000</td>\n",
       "      <td>67.000000</td>\n",
       "      <td>44.000000</td>\n",
       "      <td>33.000000</td>\n",
       "      <td>33.000000</td>\n",
       "      <td>63.000000</td>\n",
       "      <td>76.000000</td>\n",
       "      <td>3.000000</td>\n",
       "      <td>73.000000</td>\n",
       "      <td>...</td>\n",
       "      <td>19.000000</td>\n",
       "      <td>15.000000</td>\n",
       "      <td>33.000000</td>\n",
       "      <td>11.000000</td>\n",
       "      <td>10.000000</td>\n",
       "      <td>98.000000</td>\n",
       "      <td>35.000000</td>\n",
       "      <td>1.000000</td>\n",
       "      <td>18.000000</td>\n",
       "      <td>0.000000</td>\n",
       "    </tr>\n",
       "    <tr>\n",
       "      <th>4</th>\n",
       "      <td>0f2748</td>\n",
       "      <td>0.983039</td>\n",
       "      <td>0.983039</td>\n",
       "      <td>0.983039</td>\n",
       "      <td>0.983039</td>\n",
       "      <td>0.983039</td>\n",
       "      <td>0.983039</td>\n",
       "      <td>0.983039</td>\n",
       "      <td>0.983039</td>\n",
       "      <td>0.983039</td>\n",
       "      <td>...</td>\n",
       "      <td>0.983039</td>\n",
       "      <td>0.983039</td>\n",
       "      <td>0.983039</td>\n",
       "      <td>0.983039</td>\n",
       "      <td>0.983039</td>\n",
       "      <td>0.983039</td>\n",
       "      <td>0.983039</td>\n",
       "      <td>0.983039</td>\n",
       "      <td>0.983039</td>\n",
       "      <td>0.983039</td>\n",
       "    </tr>\n",
       "  </tbody>\n",
       "</table>\n",
       "<p>5 rows × 157 columns</p>\n",
       "</div>"
      ],
      "text/plain": [
       "  Item_Number           0           1           2           3           4  \\\n",
       "0      007f74  226.000000  181.000000  371.000000  246.000000  225.000000   \n",
       "1      022fa2    0.974722    0.974722    0.974722    0.974722    0.974722   \n",
       "2      0c73cc    0.000000    0.000000    0.000000    0.000000    0.000000   \n",
       "3      0eefff   80.000000   67.000000   44.000000   33.000000   33.000000   \n",
       "4      0f2748    0.983039    0.983039    0.983039    0.983039    0.983039   \n",
       "\n",
       "            5           6           7           8    ...            146  \\\n",
       "0  199.000000  236.000000  101.000000  556.000000    ...      27.000000   \n",
       "1    0.974722    0.974722    0.974722    0.974722    ...       0.974722   \n",
       "2    0.000000    0.000000    0.000000    0.000000    ...      26.000000   \n",
       "3   63.000000   76.000000    3.000000   73.000000    ...      19.000000   \n",
       "4    0.983039    0.983039    0.983039    0.983039    ...       0.983039   \n",
       "\n",
       "         147        148         149         150         151        152  \\\n",
       "0  45.000000  59.000000   29.000000  114.000000  108.000000  31.000000   \n",
       "1   0.974722   0.974722    0.974722    0.974722    0.974722   0.974722   \n",
       "2   0.000000  30.000000  109.000000   22.000000   13.000000  44.000000   \n",
       "3  15.000000  33.000000   11.000000   10.000000   98.000000  35.000000   \n",
       "4   0.983039   0.983039    0.983039    0.983039    0.983039   0.983039   \n",
       "\n",
       "         153        154        155  \n",
       "0  48.000000  60.000000  37.000000  \n",
       "1   0.974722   0.974722   0.974722  \n",
       "2  32.000000   6.000000   8.000000  \n",
       "3   1.000000  18.000000   0.000000  \n",
       "4   0.983039   0.983039   0.983039  \n",
       "\n",
       "[5 rows x 157 columns]"
      ]
     },
     "execution_count": 709,
     "metadata": {},
     "output_type": "execute_result"
    }
   ],
   "source": [
    "#Remove NA values which is cause due to moving average\n",
    "for key, value in dict_series.iteritems():\n",
    "    dict_series[key] = np.where(np.isnan(value), np.ma.array(value, mask=np.isnan(value)).mean(axis=0), value)\n",
    "#dict_series\n",
    "\n",
    "#Transposing back to normal\n",
    "\n",
    "new_DF = pd.DataFrame.from_dict(dict_series)\n",
    "new_DF = new_DF.transpose()\n",
    "new_DF.index.names = ['Item_Number']\n",
    "new_DF = new_DF.reset_index()\n",
    "new_DF.head()"
   ]
  },
  {
   "cell_type": "markdown",
   "metadata": {},
   "source": [
    "##### ARIMA\n",
    "\n",
    "- Reason for using arima is that for univariate data, as in our case, ARIMA is the most famous time series algorthms which uses the assumption of stationarity. I have used this earlier and hence, I am using it as my first algorithm.\n",
    "\n",
    "- I am using RMSE value as a metric because other metric like MAPE gives biased results by puting heavy penalty on small values compared to large values. We have some product with reall small values and some with large. Hence, I used RMSE as squaring reduces the effect of difference between small and large values.\n",
    "\n",
    "- As asked for, I am doing 52 step forecast"
   ]
  },
  {
   "cell_type": "code",
   "execution_count": 720,
   "metadata": {
    "collapsed": true
   },
   "outputs": [],
   "source": [
    "#Applying ARIMA as we have p, d ,q values\n",
    "\n",
    "def apply_ARIMA_train_test(train_data, test_data, order, prod_ID):\n",
    "    model = ARIMA(train_data, order = order)\n",
    "    model_fit = model.fit(disp = 0)\n",
    "    prediction = model_fit.forecast(steps = 52)[0]\n",
    "    return sqrt(mean_squared_error(test_data, prediction)),prediction\n"
   ]
  },
  {
   "cell_type": "markdown",
   "metadata": {},
   "source": [
    "##### Initial approach\n",
    "\n",
    "- Initially, I was thinking of creating Training set (first 2 years) and Testing set (one or latest year). Train different models like ARIMA and other models that will come ahead. Test their accuracy on test set and which ever is perfoming best, go ahead with that model. I was planning to use RMSE.\n",
    "\n",
    "- But, Later I changed my approach because I found out that for large number of products, initial 2 years had no demand and there was a sudden increase in demand. Hence, in such as case, this method won't work.\n",
    "\n",
    "- Example of such a data is shown below:\n",
    "\n",
    "- There are many such examples."
   ]
  },
  {
   "cell_type": "code",
   "execution_count": 727,
   "metadata": {},
   "outputs": [
    {
     "data": {
      "image/png": "[encoded data removed]",
      "text/plain": [
       "<matplotlib.figure.Figure at 0x1422d358>"
      ]
     },
     "metadata": {},
     "output_type": "display_data"
    }
   ],
   "source": [
    "plt.plot(data_transpose[\"799620\"].values[1:])\n",
    "plt.show()"
   ]
  },
  {
   "cell_type": "markdown",
   "metadata": {},
   "source": [
    "##### Test and Train set\n",
    "\n",
    "I figured later that this methods is not that useful"
   ]
  },
  {
   "cell_type": "code",
   "execution_count": null,
   "metadata": {
    "collapsed": true
   },
   "outputs": [],
   "source": [
    "# Creating Traing and Test set \n",
    "\n",
    "cols = ['Item_Number'] + list(new_DF.iloc[:, 1:105])\n",
    "training_set = new_DF[cols]\n",
    "cols = ['Item_Number'] + list(new_DF.iloc[:, 105:])\n",
    "test_set = new_DF[cols]"
   ]
  },
  {
   "cell_type": "markdown",
   "metadata": {},
   "source": [
    "- Below we are calling ARIMA function bby passing correct p and q values based on clustering. But, I faced an issue where there were 7 products of which p and q values are inappropriate according to ARIMA.\n",
    "- This can happen because clusters are not 100% correct. Hence, either one can manually decide p and q values using below interactive visualization or jsut give them 0. I chose the second option.\n",
    "- According to me it won't harm the prediction as it is only 7 products and there are other methods which can take care of these products"
   ]
  },
  {
   "cell_type": "code",
   "execution_count": null,
   "metadata": {
    "collapsed": true
   },
   "outputs": [],
   "source": [
    "# give order (0,0,0) if there is an issue in p,q values of product. This happens when you impute incorrect p and q values\n",
    "order_dict = {}\n",
    "rmse_dict = {}\n",
    "prediction_test={}\n",
    "temp1 = []\n",
    "temp2 =[]\n",
    "lingerror_products = []\n",
    "valerror_products = []\n",
    "for index, row in training_set.iterrows():\n",
    "    try:\n",
    "        prod_ID = row['Item_Number']\n",
    "        clusternumber=kmeans_labels.loc[kmeans_labels[\"Product_ID\"]==prod_ID].values[0][0]\n",
    "        order=pq_dict[clusternumber]\n",
    "        train_data = np.asarray(row)[1:]\n",
    "        test_data = np.asarray(test_set.loc[test_set['Item_Number'] == prod_ID])[0][1:]\n",
    "        order_dict[prod_ID]=order\n",
    "        rmse_dict[prod_ID],prediction_test[prod_ID] = apply_ARIMA_train_test(train_data, test_data, order, prod_ID)\n",
    "    except ValueError:\n",
    "        valerror_products.append((prod_ID, order))\n",
    "        rmse_dict[prod_ID],prediction_test[prod_ID] = apply_ARIMA_train_test(train_data, test_data, (0,0,0), prod_ID)\n",
    "        order_dict[prod_ID]=(0,0,0)\n",
    "    except LinAlgError:\n",
    "        lingerror_products.append((prod_ID, order))\n",
    "        rmse_dict[prod_ID],prediction_test[prod_ID] = apply_ARIMA_train_test(train_data, test_data, (0,0,0), prod_ID)\n",
    "        order_dict[prod_ID]=(0,0,0)"
   ]
  },
  {
   "cell_type": "code",
   "execution_count": 729,
   "metadata": {},
   "outputs": [
    {
     "name": "stdout",
     "output_type": "stream",
     "text": [
      "[('1c69c7', (4, 0, 1)), ('1da685', (4, 0, 1)), ('21b10f', (4, 0, 1)), ('7d8d39', (4, 0, 1)), ('832cce', (4, 0, 1)), ('c2e5bb', (4, 0, 1)), ('c5f6ee', (4, 0, 1)), ('c66125', (4, 0, 1)), ('c94dca', (4, 0, 1))]\n",
      "=====================================================================================================================\n",
      "[('9d68a0', (3, 0, 2))]\n"
     ]
    }
   ],
   "source": [
    "# These are the products with issues\n",
    "\n",
    "print(lingerror_products)\n",
    "print(\"=====================================================================================================================\")\n",
    "print(valerror_products)"
   ]
  },
  {
   "cell_type": "code",
   "execution_count": null,
   "metadata": {
    "collapsed": true
   },
   "outputs": [],
   "source": [
    "#One way is to manually impose new values of product by looking at their plots by product. I tried this as well.\n",
    "\n",
    "# apply_ARIMA(dict_series['21b10f'].astype(float),(0,0,1),'21b10f')\n",
    "# apply_ARIMA(dict_series['7d8d39'].astype(float),(0,0,1),'7d8d39')\n",
    "# apply_ARIMA(dict_series['832cce'].astype(float),(3,0,0),'832cce')\n",
    "# apply_ARIMA(dict_series['1da685'].astype(float),(7,0,2),'1da685')\n",
    "# apply_ARIMA(dict_series['0c73cc'].astype(float),(1,0,0),'0c73cc')\n",
    "# apply_ARIMA(dict_series['63fc05'].astype(float),(2,0,2),'63fc05')\n",
    "# apply_ARIMA(dict_series['7200c2'].astype(float),(4,0,3),'7200c2')"
   ]
  },
  {
   "cell_type": "markdown",
   "metadata": {},
   "source": [
    "##### Autocorrelation plots based on product"
   ]
  },
  {
   "cell_type": "code",
   "execution_count": 712,
   "metadata": {},
   "outputs": [
    {
     "data": {
      "application/vnd.jupyter.widget-view+json": {
       "model_id": "5131f338bb9c4edfb5110ef53c3aaf1a"
      }
     },
     "metadata": {},
     "output_type": "display_data"
    },
    {
     "data": {
      "text/plain": [
       "<function __main__.autocorrelation_based_on_product>"
      ]
     },
     "execution_count": 712,
     "metadata": {},
     "output_type": "execute_result"
    }
   ],
   "source": [
    "def autocorrelation_based_on_product(Products):\n",
    "    sns.set(style=\"whitegrid\", color_codes=True)\n",
    "    temp = new_DF.loc[new_DF[\"Item_Number\"] == Products]\n",
    "    x = temp.iloc[0,1:].tolist()\n",
    "    fig=plt.figure(figsize=(20, 10))\n",
    "    plot_acf(x,lags=52)\n",
    "    plot_pacf(x,lags=52)\n",
    "    plt.show()\n",
    "interact(autocorrelation_based_on_product, Products=new_DF.Item_Number.unique().tolist())"
   ]
  },
  {
   "cell_type": "markdown",
   "metadata": {},
   "source": [
    "- This ARIMA is function is to predict 52 points when entire data set is given as input"
   ]
  },
  {
   "cell_type": "code",
   "execution_count": 507,
   "metadata": {
    "collapsed": true
   },
   "outputs": [],
   "source": [
    "def apply_ARIMA(data, order, prod_ID):\n",
    "    #order_dict[prod_ID] = order\n",
    "    #print(data)\n",
    "    model = ARIMA(data, order = order)\n",
    "    model_fit = model.fit(disp = 0)\n",
    "    yhat = model_fit.forecast(steps = 52)[0]\n",
    "    return yhat"
   ]
  },
  {
   "cell_type": "markdown",
   "metadata": {},
   "source": [
    "##### Supervised Learning using Feature Engineering\n",
    "\n",
    "- Feature engineering is done to perform a supervised learning approach and apply alogrithms like linear regression and random forest\n",
    "- This is done to cover inherent relationship between input that is lags of the series in this case and ouput that is single target demand\n",
    "- univariate series such as time series only comprises of sequences. Hence, to cover complex behavior of input and output features, feature engineering is one of the best approach\n",
    "- Apart from lags as features there are other information like month, day, holiday, season which can be combined. But, In our case it is not given that it is which year or which week or whether it is start of the year of weeks are given from between. Hence we are using only lags.\n",
    "- In this case, I used 16 lags as 16 Features. reason of using 16 is I haven't seen any autocrrelation plot where there is correlation between lags with value greater than 16 (4 Weeks)\n",
    "- Data is shown Below for one product\n",
    "\n",
    "##### We applied following Algorithms\n",
    "\n",
    "- Linear regression\n",
    "- Linear regression with feature selection\n",
    "- Random Forest\n",
    "- Weighted Ensemble Model based on RMSE (Above Models + Arima)"
   ]
  },
  {
   "cell_type": "markdown",
   "metadata": {},
   "source": [
    "##### Final Approach\n",
    "\n",
    "- Initially, I planned to use that algorithm which gives lowest RMSE value but later, I decided to use weighted Ensemble approach\n",
    "- I give weights to each model on the basis of RMSE i.e. Algorithm with lowest RMSE gets the highest weight\n",
    "- Than this weights are used to calculate the predictions\n",
    "\n",
    "Example:\n",
    "\n",
    "Predicitons of RF=100, LinearR=120\n",
    "\n",
    "Weight to RF=0.7, LinearR=0.3\n",
    "\n",
    "Ensemble prediction = 100 * 0.7 + 120 * 0.3\n",
    "\n",
    "- All Rmse are stored in model_results dictionary and prediction in prediction dictionary"
   ]
  },
  {
   "cell_type": "code",
   "execution_count": 731,
   "metadata": {},
   "outputs": [
    {
     "data": {
      "text/html": [
       "<div>\n",
       "<style>\n",
       "    .dataframe thead tr:only-child th {\n",
       "        text-align: right;\n",
       "    }\n",
       "\n",
       "    .dataframe thead th {\n",
       "        text-align: left;\n",
       "    }\n",
       "\n",
       "    .dataframe tbody tr th {\n",
       "        vertical-align: top;\n",
       "    }\n",
       "</style>\n",
       "<table border=\"1\" class=\"dataframe\">\n",
       "  <thead>\n",
       "    <tr style=\"text-align: right;\">\n",
       "      <th></th>\n",
       "      <th>t-16</th>\n",
       "      <th>t-15</th>\n",
       "      <th>t-14</th>\n",
       "      <th>t-13</th>\n",
       "      <th>t-12</th>\n",
       "      <th>t-11</th>\n",
       "      <th>t-10</th>\n",
       "      <th>t-9</th>\n",
       "      <th>t-8</th>\n",
       "      <th>t-7</th>\n",
       "      <th>t-6</th>\n",
       "      <th>t-5</th>\n",
       "      <th>t-4</th>\n",
       "      <th>t-3</th>\n",
       "      <th>t-2</th>\n",
       "      <th>t-1</th>\n",
       "      <th>t</th>\n",
       "    </tr>\n",
       "  </thead>\n",
       "  <tbody>\n",
       "    <tr>\n",
       "      <th>Historical_Period_17</th>\n",
       "      <td>255</td>\n",
       "      <td>237</td>\n",
       "      <td>273</td>\n",
       "      <td>153</td>\n",
       "      <td>184</td>\n",
       "      <td>262</td>\n",
       "      <td>267</td>\n",
       "      <td>141</td>\n",
       "      <td>289</td>\n",
       "      <td>317</td>\n",
       "      <td>229</td>\n",
       "      <td>101</td>\n",
       "      <td>180</td>\n",
       "      <td>253</td>\n",
       "      <td>267</td>\n",
       "      <td>222</td>\n",
       "      <td>220</td>\n",
       "    </tr>\n",
       "    <tr>\n",
       "      <th>Historical_Period_18</th>\n",
       "      <td>237</td>\n",
       "      <td>273</td>\n",
       "      <td>153</td>\n",
       "      <td>184</td>\n",
       "      <td>262</td>\n",
       "      <td>267</td>\n",
       "      <td>141</td>\n",
       "      <td>289</td>\n",
       "      <td>317</td>\n",
       "      <td>229</td>\n",
       "      <td>101</td>\n",
       "      <td>180</td>\n",
       "      <td>253</td>\n",
       "      <td>267</td>\n",
       "      <td>222</td>\n",
       "      <td>220</td>\n",
       "      <td>262</td>\n",
       "    </tr>\n",
       "    <tr>\n",
       "      <th>Historical_Period_19</th>\n",
       "      <td>273</td>\n",
       "      <td>153</td>\n",
       "      <td>184</td>\n",
       "      <td>262</td>\n",
       "      <td>267</td>\n",
       "      <td>141</td>\n",
       "      <td>289</td>\n",
       "      <td>317</td>\n",
       "      <td>229</td>\n",
       "      <td>101</td>\n",
       "      <td>180</td>\n",
       "      <td>253</td>\n",
       "      <td>267</td>\n",
       "      <td>222</td>\n",
       "      <td>220</td>\n",
       "      <td>262</td>\n",
       "      <td>189</td>\n",
       "    </tr>\n",
       "    <tr>\n",
       "      <th>Historical_Period_20</th>\n",
       "      <td>153</td>\n",
       "      <td>184</td>\n",
       "      <td>262</td>\n",
       "      <td>267</td>\n",
       "      <td>141</td>\n",
       "      <td>289</td>\n",
       "      <td>317</td>\n",
       "      <td>229</td>\n",
       "      <td>101</td>\n",
       "      <td>180</td>\n",
       "      <td>253</td>\n",
       "      <td>267</td>\n",
       "      <td>222</td>\n",
       "      <td>220</td>\n",
       "      <td>262</td>\n",
       "      <td>189</td>\n",
       "      <td>212</td>\n",
       "    </tr>\n",
       "    <tr>\n",
       "      <th>Historical_Period_21</th>\n",
       "      <td>184</td>\n",
       "      <td>262</td>\n",
       "      <td>267</td>\n",
       "      <td>141</td>\n",
       "      <td>289</td>\n",
       "      <td>317</td>\n",
       "      <td>229</td>\n",
       "      <td>101</td>\n",
       "      <td>180</td>\n",
       "      <td>253</td>\n",
       "      <td>267</td>\n",
       "      <td>222</td>\n",
       "      <td>220</td>\n",
       "      <td>262</td>\n",
       "      <td>189</td>\n",
       "      <td>212</td>\n",
       "      <td>257</td>\n",
       "    </tr>\n",
       "  </tbody>\n",
       "</table>\n",
       "</div>"
      ],
      "text/plain": [
       "                     t-16 t-15 t-14 t-13 t-12 t-11 t-10  t-9  t-8  t-7  t-6  \\\n",
       "Historical_Period_17  255  237  273  153  184  262  267  141  289  317  229   \n",
       "Historical_Period_18  237  273  153  184  262  267  141  289  317  229  101   \n",
       "Historical_Period_19  273  153  184  262  267  141  289  317  229  101  180   \n",
       "Historical_Period_20  153  184  262  267  141  289  317  229  101  180  253   \n",
       "Historical_Period_21  184  262  267  141  289  317  229  101  180  253  267   \n",
       "\n",
       "                      t-5  t-4  t-3  t-2  t-1    t  \n",
       "Historical_Period_17  101  180  253  267  222  220  \n",
       "Historical_Period_18  180  253  267  222  220  262  \n",
       "Historical_Period_19  253  267  222  220  262  189  \n",
       "Historical_Period_20  267  222  220  262  189  212  \n",
       "Historical_Period_21  222  220  262  189  212  257  "
      ]
     },
     "execution_count": 731,
     "metadata": {},
     "output_type": "execute_result"
    }
   ],
   "source": [
    "#automate feature engineering\n",
    "\n",
    "from math import sqrt\n",
    "model_results={}\n",
    "prediction={}\n",
    "best_model=''\n",
    "for x in range(0,len(data_transpose.columns)):\n",
    "    product=data_transpose.columns[x]\n",
    "\n",
    "#Feature Engineering using Lagged Values\n",
    "\n",
    "    temp=pd.DataFrame(data_transpose[product])\n",
    "    temp.columns=['t']\n",
    "    temp_x=temp\n",
    "    value=16\n",
    "    for x in range(1,value+1):\n",
    "\n",
    "        temp_x=pd.concat([temp.shift(x),temp_x],axis=1)\n",
    "        cols=(temp_x.columns.values.tolist())\n",
    "        del cols[0]\n",
    "        cols.insert(0,\"t-\" + str(x))\n",
    "        temp_x.columns=cols\n",
    "\n",
    "    linear_data=temp_x.iloc[value:,]\n",
    "    \n",
    "#Called algorthm functions and retrieved RMSE\n",
    "\n",
    "    regression_RMSE,FE_Regression_RMSE,RF_RMSE,Ensemble_RMSE=Ensemble(linear_data,product)\n",
    "    ARIMA_RMSE = rmse_dict[product]\n",
    "    model_results[product]=[regression_RMSE,FE_Regression_RMSE,RF_RMSE,Ensemble_RMSE, ARIMA_RMSE] #All RMSE values\n",
    "\n",
    "#Find Best RMSE\n",
    "#     index = model_results[product].index(min(model_results[product]))\n",
    "#     if(index == 0):\n",
    "#         best_model = 'Reg'\n",
    "#     if(index == 1):\n",
    "#         best_model = 'FE_Reg'\n",
    "#     if(index == 2):\n",
    "#         best_model='RF'\n",
    "#     if(index == 3):\n",
    "#         best_model='Ensemble'\n",
    "#     if(index == 4):\n",
    "#         best_model='ARIMA'\n",
    "\n",
    "    best_model='Ensemble'\n",
    "    prediction[product]=Final(linear_data,best_model,product) # All Predcition\n",
    "    \n",
    "linear_data.head()"
   ]
  },
  {
   "cell_type": "markdown",
   "metadata": {},
   "source": [
    "##### Linear Regression\n",
    "\n",
    "- Applied Log tranform to normalize the scale and make robust against outliers\n",
    "- Handled Infinity values\n",
    "- Brough back to same scale using exponential function\n",
    "- **Predictions which are negative are made 0** as negative demand doesn't make sense"
   ]
  },
  {
   "cell_type": "code",
   "execution_count": 714,
   "metadata": {
    "collapsed": true
   },
   "outputs": [],
   "source": [
    "from sklearn import datasets, linear_model\n",
    "from sklearn.metrics import r2_score, mean_squared_error\n",
    "X_train=0\n",
    "def regression(linear_data):\n",
    "    global X_train\n",
    "    Y=(linear_data[linear_data.columns[-1]])\n",
    "    X=linear_data[linear_data.columns[:-1]]\n",
    "    X_train=X.iloc[:88,]\n",
    "    X_test=X.iloc[88:,]\n",
    "    Y_train=pd.DataFrame(Y.iloc[:88])\n",
    "    Y_test=Y.iloc[88:]\n",
    "\n",
    "    X_train=X_train.apply(pd.to_numeric,axis=0)\n",
    "    X_train=X_train.apply(np.log,axis=0)\n",
    "    #print(X_train)\n",
    "    X_train=X_train.replace(-np.inf,0)\n",
    "\n",
    "    Y_train=Y_train.apply(pd.to_numeric,axis=0)\n",
    "    Y_train=Y_train.apply(np.log,axis=0)\n",
    "    Y_train=Y_train.replace(-np.inf,0)\n",
    "\n",
    "    X_test=X_test.apply(pd.to_numeric,axis=0)\n",
    "    X_test=X_test.apply(np.log,axis=0)\n",
    "    X_test=X_test.replace(-np.inf,0)\n",
    "\n",
    "    lm = linear_model.LinearRegression()\n",
    "\n",
    "    model = lm.fit(X_train, Y_train)\n",
    "\n",
    "    Prediction=pd.DataFrame(model.predict(X_test))\n",
    "\n",
    "    Prediction=Prediction.apply(np.exp,axis=0)\n",
    "\n",
    "    Prediction[Prediction<0]=0\n",
    "    \n",
    "    return (Prediction,sqrt(mean_squared_error(Y_test.values,Prediction)))"
   ]
  },
  {
   "cell_type": "markdown",
   "metadata": {},
   "source": [
    "##### Feature select + Linear Regression\n",
    "\n",
    "- Penalized Linear regression by considering only important features that are influential\n",
    "- Features are selected using Recursive Feature Elimination\n",
    "- This was used becuase all lags are not important to predict target\n",
    "- It selects the features based on importance and its regression coefficients\n",
    "- Similar log transofrmation is applied"
   ]
  },
  {
   "cell_type": "code",
   "execution_count": 658,
   "metadata": {
    "collapsed": true
   },
   "outputs": [],
   "source": [
    "#Linear Regression\n",
    "from sklearn.feature_selection import RFE\n",
    "from sklearn import datasets, linear_model\n",
    "from sklearn.metrics import r2_score, mean_squared_error\n",
    "\n",
    "def fe_regression(linear_data):\n",
    "    Y=(linear_data[linear_data.columns[-1]])\n",
    "    X=linear_data[linear_data.columns[:-1]]\n",
    "    X_train=X.iloc[:88,]\n",
    "    X_test=X.iloc[88:,]\n",
    "    Y_train=pd.DataFrame(Y.iloc[:88])\n",
    "    Y_test=Y.iloc[88:]\n",
    "\n",
    "    X_train=X_train.apply(pd.to_numeric,axis=0)\n",
    "    X_train=X_train.apply(np.log,axis=0)\n",
    "    #print(X_train)\n",
    "    X_train=X_train.replace(-np.inf,0)\n",
    "\n",
    "    Y_train=Y_train.apply(pd.to_numeric,axis=0)\n",
    "    Y_train=Y_train.apply(np.log,axis=0)\n",
    "    Y_train=Y_train.replace(-np.inf,0)\n",
    "\n",
    "    X_test=X_test.apply(pd.to_numeric,axis=0)\n",
    "    X_test=X_test.apply(np.log,axis=0)\n",
    "    X_test=X_test.replace(-np.inf,0)\n",
    "\n",
    "    lm = RFE(linear_model.LinearRegression())\n",
    "    model = lm.fit(X_train, Y_train)\n",
    "\n",
    "    Prediction=pd.DataFrame(model.predict(X_test))\n",
    "    Prediction=Prediction.apply(np.exp,axis=0)\n",
    "    Prediction[Prediction<0]=0\n",
    "    return (Prediction,sqrt(mean_squared_error(Y_test.values,Prediction)))"
   ]
  },
  {
   "cell_type": "markdown",
   "metadata": {},
   "source": [
    "###### Random Forest\n",
    "\n",
    "- It is used to detect non-linear or region wise pattern\n",
    "- I used this because usually, it gives good results due to the concept of bagging which reduces the Variance and with considerable depth of tree, it reduces bias as well\n",
    "- To tune, I tried to use grid search but for all the products, it is not posible. So, I used the generic one"
   ]
  },
  {
   "cell_type": "code",
   "execution_count": 659,
   "metadata": {
    "collapsed": true
   },
   "outputs": [],
   "source": [
    "from sklearn.ensemble import RandomForestRegressor\n",
    "\n",
    "def RF(linear_data):\n",
    "\n",
    "    model = RandomForestRegressor(n_estimators=500, max_depth=35, max_features=\"log2\",min_samples_split=15)\n",
    "    Y=(linear_data[linear_data.columns[-1]])\n",
    "    X=linear_data[linear_data.columns[:-1]]\n",
    "\n",
    "    X_train=X.iloc[:88,]\n",
    "    X_test=X.iloc[88:,]\n",
    "    Y_train=pd.DataFrame(Y.iloc[:88])\n",
    "    Y_test=Y.iloc[88:]\n",
    "\n",
    "    X_train=X_train.apply(pd.to_numeric,axis=0)\n",
    "    X_train=X_train.apply(np.log,axis=0)\n",
    "    #print(X_train)\n",
    "    X_train=X_train.replace(-np.inf,0)\n",
    "\n",
    "    Y_train=Y_train.apply(pd.to_numeric,axis=0)\n",
    "    Y_train=Y_train.apply(np.log,axis=0)\n",
    "    Y_train=Y_train.replace(-np.inf,0)\n",
    "\n",
    "    X_test=X_test.apply(pd.to_numeric,axis=0)\n",
    "    X_test=X_test.apply(np.log,axis=0)\n",
    "    X_test=X_test.replace(-np.inf,0)\n",
    "\n",
    "    model=model.fit(X_train, Y_train)\n",
    "\n",
    "    Y_test[Y_test==0]=0.1\n",
    "\n",
    "    Prediction=pd.DataFrame(model.predict(X_test))\n",
    "\n",
    "    Prediction=Prediction.apply(np.exp,axis=0)\n",
    "\n",
    "\n",
    "    Prediction[Prediction<0]=0\n",
    "\n",
    "    return (Prediction,sqrt(mean_squared_error(Y_test.values,Prediction)))"
   ]
  },
  {
   "cell_type": "markdown",
   "metadata": {},
   "source": [
    "##### As Explained earlier"
   ]
  },
  {
   "cell_type": "code",
   "execution_count": 660,
   "metadata": {
    "collapsed": true
   },
   "outputs": [],
   "source": [
    "def Ensemble(linear_data,product):\n",
    "    Y=(linear_data[linear_data.columns[-1]])\n",
    "    Y_test=Y.iloc[88:]\n",
    "    \n",
    "    reg_prediction, reg_RMSE = regression(linear_data)\n",
    "    fe_reg_prediction, fe_reg_RMSE = fe_regression(linear_data)\n",
    "    rf_prediction, rf_RMSE = RF(linear_data)\n",
    "    arima_prediction = pd.DataFrame(prediction_test[product]) \n",
    "    arima_RMSE = rmse_dict[product]\n",
    "    \n",
    "    #Calculation to get weights for each model\n",
    "    total_RMSE = reg_RMSE + fe_reg_RMSE + rf_RMSE + arima_RMSE\n",
    "    A = total_RMSE - reg_RMSE\n",
    "    B = total_RMSE - fe_reg_RMSE\n",
    "    C = total_RMSE - rf_RMSE\n",
    "    D = total_RMSE - arima_RMSE\n",
    "    reg_weight = A/(A+B+C+D)\n",
    "    fe_reg_weight = B/(A+B+C+D)\n",
    "    rf_weight = C/(A+B+C+D)\n",
    "    arima_weight = D/(A+B+C+D)\n",
    "    \n",
    "    #Add Ensemble Prediction in a data frame\n",
    "    Ensemble_Prediction = pd.DataFrame(columns=[\"Prediction\"])\n",
    "    for x in range(0,52):\n",
    "        Ensemble_Prediction.loc[x] = pd.DataFrame(reg_prediction.iloc[x]*reg_weight + fe_reg_prediction.iloc[x]*fe_reg_weight + rf_weight*rf_prediction.iloc[x] + arima_weight*arima_prediction.iloc[x])\n",
    "    \n",
    "    return reg_RMSE,fe_reg_RMSE,rf_RMSE,sqrt(mean_squared_error(Y_test.values,Ensemble_Prediction))\n",
    "    "
   ]
  },
  {
   "cell_type": "code",
   "execution_count": 733,
   "metadata": {
    "collapsed": true
   },
   "outputs": [],
   "source": [
    "# from sklearn.model_selection import GridSearchCV\n",
    "\n",
    "# Y=(linear_data[linear_data.columns[-1]])\n",
    "# X=linear_data[linear_data.columns[:-1]]\n",
    "\n",
    "# X_train=X.iloc[:88,]\n",
    "# X_test=X.iloc[88:,]\n",
    "# Y_train=pd.DataFrame(Y.iloc[:88])\n",
    "# Y_test=Y.iloc[88:]\n",
    "\n",
    "# model = RandomForestRegressor(oob_score=True)\n",
    "\n",
    "\n",
    "# param_grid = { \"n_estimators\"      : [250,500,750],\n",
    "#            \"max_features\"      : [\"sqrt\",\"log2\"],\n",
    "#            \"max_depth\"         : [25, 35, 40],\n",
    "#            \"min_samples_split\" : [10, 15]}\n",
    "# grid_search = GridSearchCV(model, param_grid, n_jobs=-1, cv=10)\n",
    "# grid_search.fit(X_train, Y_train)\n",
    "# print(grid_search.best_params_)"
   ]
  },
  {
   "cell_type": "markdown",
   "metadata": {},
   "source": [
    "- Below are the same functions but they are forecasting the future 52 points based on input data\n",
    "- In supervised learning, forecasting is tricky\n",
    "- I forecast one point, use that point as input for next cycle and forecast second. this goes on till I get 52 points.\n",
    "\n",
    "##### reason to chose Ensemble\n",
    "\n",
    "- It averages the results hence reducing variance\n",
    "- Usually, ensemble is considered the best approach and adding weighted touch to it was compelling\n",
    "- I saw the results for few combination and ensemble seemed to be perfect"
   ]
  },
  {
   "cell_type": "code",
   "execution_count": 675,
   "metadata": {
    "collapsed": true
   },
   "outputs": [],
   "source": [
    "#If Linear Regression or Random Forest or Ensemble\n",
    "def Final(linear_data,best_rmse,product):\n",
    "    test_temp=pd.DataFrame(linear_data.iloc[-1:,1:])\n",
    "    #print(test_temp)\n",
    "    test_temp.columns=np.insert(test_temp.columns[:-1].values,0,\"t-16\")\n",
    "    \n",
    "# best will always be ensemble\n",
    "\n",
    "    if(best_rmse==\"Reg\"):\n",
    "\n",
    "        pred = Final_Regr(linear_data,test_temp)\n",
    "    if(best_rmse==\"FE_Reg\"):\n",
    "\n",
    "        pred = Final_FE_Regr(linear_data,test_temp)\n",
    "    if(best_rmse==\"RF\"):\n",
    "\n",
    "        pred = Final_RF(linear_data,test_temp)\n",
    "    if(best_rmse==\"Ensemble\"):\n",
    "\n",
    "        pred = Final_Ensemble(linear_data,test_temp,product)\n",
    "    if(best_rmse == \"ARIMA\"):\n",
    "\n",
    "        linear_data=np.asarray(new_DF[new_DF[\"Item_Number\"]==product].values[0][1:])\n",
    "        order=order_dict[product]\n",
    "        pred = pd.DataFrame(apply_ARIMA(linear_data,order,product))\n",
    "    return pred.values.tolist()\n"
   ]
  },
  {
   "cell_type": "code",
   "execution_count": 674,
   "metadata": {
    "collapsed": true
   },
   "outputs": [],
   "source": [
    "def Final_Regr(linear_data,data):\n",
    "    prediction=pd.DataFrame(columns=[\"Outcome\"])\n",
    "    Test=pd.DataFrame(linear_data[linear_data.columns[-1]])\n",
    "    Train=pd.DataFrame(linear_data[linear_data.columns[:-1]])\n",
    "        \n",
    "    Train=Train.apply(pd.to_numeric,axis=0)\n",
    "    Train=Train.apply(np.log,axis=0)\n",
    "\n",
    "    Train=Train.replace(-np.inf,0)\n",
    "    \n",
    "    Test=Test.apply(pd.to_numeric,axis=0)\n",
    "    Test=Test.apply(np.log,axis=0)\n",
    "    Test=Test.replace(-np.inf,0)\n",
    "\n",
    "    data=data.apply(pd.to_numeric,axis=0)\n",
    "    data=data.apply(np.log,axis=0)\n",
    "    data=data.replace(-np.inf,0)\n",
    "\n",
    "    lm = linear_model.LinearRegression()\n",
    "    model = lm.fit(Train, Test)\n",
    "    columns=data.columns\n",
    "    \n",
    "    for x in range(0,52):\n",
    "        prediction.loc[x]=pd.DataFrame(model.predict(data))\n",
    "        data=data.drop('t-16',1)\n",
    "        data.columns=columns[:-1]\n",
    "        data['t-1']=prediction.iloc[x,0] \n",
    "    prediction=prediction.apply(np.exp,axis=0)\n",
    "    #Prediction\n",
    "    prediction[prediction<0]=0\n",
    "    return prediction"
   ]
  },
  {
   "cell_type": "code",
   "execution_count": 673,
   "metadata": {
    "collapsed": true
   },
   "outputs": [],
   "source": [
    "def Final_FE_Regr(linear_data,data):\n",
    "    prediction=pd.DataFrame(columns=[\"Outcome\"])\n",
    "    Test=pd.DataFrame(linear_data[linear_data.columns[-1]])\n",
    "    Train=pd.DataFrame(linear_data[linear_data.columns[:-1]])\n",
    "    \n",
    "    \n",
    "    Train=Train.apply(pd.to_numeric,axis=0)\n",
    "    Train=Train.apply(np.log,axis=0)\n",
    "    #print(X_train)\n",
    "    Train=Train.replace(-np.inf,0)\n",
    "\n",
    "    Test=Test.apply(pd.to_numeric,axis=0)\n",
    "    Test=Test.apply(np.log,axis=0)\n",
    "    Test=Test.replace(-np.inf,0)\n",
    "\n",
    "    data=data.apply(pd.to_numeric,axis=0)\n",
    "    data=data.apply(np.log,axis=0)\n",
    "    data=data.replace(-np.inf,0)\n",
    "    \n",
    "    lm = RFE(linear_model.LinearRegression())\n",
    "    model = lm.fit(Train, Test)\n",
    "    columns=data.columns\n",
    "    \n",
    "    for x in range(0,52):\n",
    "        prediction.loc[x]=pd.DataFrame(model.predict(data))\n",
    "        data=data.drop('t-16',1)\n",
    "        data.columns=columns[:-1]\n",
    "        data['t-1']=prediction.iloc[x,0]\n",
    "    prediction=prediction.apply(np.exp,axis=0)\n",
    "    #Prediction\n",
    "    prediction[prediction<0]=0\n",
    "    return prediction"
   ]
  },
  {
   "cell_type": "code",
   "execution_count": 672,
   "metadata": {
    "collapsed": true
   },
   "outputs": [],
   "source": [
    "def Final_RF(linear_data,data):\n",
    "    prediction=pd.DataFrame(columns=[\"Outcome\"])\n",
    "    Test=pd.DataFrame(linear_data[linear_data.columns[-1]])\n",
    "    Train=pd.DataFrame(linear_data[linear_data.columns[:-1]])\n",
    "    \n",
    "    \n",
    "    Train=Train.apply(pd.to_numeric,axis=0)\n",
    "    Train=Train.apply(np.log,axis=0)\n",
    "    #print(X_train)\n",
    "    Train=Train.replace(-np.inf,0)\n",
    "\n",
    "    Test=Test.apply(pd.to_numeric,axis=0)\n",
    "    Test=Test.apply(np.log,axis=0)\n",
    "    Test=Test.replace(-np.inf,0)\n",
    "\n",
    "    data=data.apply(pd.to_numeric,axis=0)\n",
    "    data=data.apply(np.log,axis=0)\n",
    "    data=data.replace(-np.inf,0)\n",
    "    \n",
    "    lm = RandomForestRegressor(n_estimators=500, max_depth=35, max_features=\"log2\",min_samples_split=15)\n",
    "    model = lm.fit(Train, Test)\n",
    "    columns=data.columns\n",
    "    \n",
    "    for x in range(0,52):\n",
    "        prediction.loc[x]=pd.DataFrame(model.predict(data))\n",
    "        data=data.drop('t-16',1)\n",
    "        data.columns=columns[:-1]\n",
    "        data['t-1']=prediction.iloc[x,0]\n",
    "    prediction=prediction.apply(np.exp,axis=0)\n",
    "    prediction[prediction<0]=0\n",
    "    return prediction"
   ]
  },
  {
   "cell_type": "code",
   "execution_count": 681,
   "metadata": {
    "collapsed": true
   },
   "outputs": [],
   "source": [
    "def Final_Ensemble(linear_data,data,product):\n",
    "    \n",
    "    prediction_reg=Final_Regr(linear_data,data)\n",
    "    prediction_fe_regr=Final_FE_Regr(linear_data,data)\n",
    "    prediction_rf=Final_RF(linear_data,data)\n",
    "    #ARIMA\n",
    "    \n",
    "    linear_data=np.asarray(new_DF[new_DF[\"Item_Number\"]==product].values[0][1:])\n",
    "    try:\n",
    "        order=order_dict[product]\n",
    "        prediction_ARIMA = pd.DataFrame(apply_ARIMA(linear_data,order,product))\n",
    "    except LinAlgError:\n",
    "        linear_data=np.asarray(new_DF[new_DF[\"Item_Number\"]==product].values[0][1:])\n",
    "        order=(0,0,0)\n",
    "        prediction_ARIMA = pd.DataFrame(apply_ARIMA(linear_data,order,product))   \n",
    "    \n",
    "    prediction_ARIMA.columns=['Outcome']\n",
    "    reg_RMSE=model_results[product][0]\n",
    "    fe_reg_RMSE=model_results[product][1]\n",
    "    rf_RMSE=model_results[product][2]\n",
    "    arima_RMSE=rmse_dict[product]\n",
    "    \n",
    "    \n",
    "    \n",
    "    total_RMSE = reg_RMSE + fe_reg_RMSE + rf_RMSE + arima_RMSE\n",
    "    A = total_RMSE - reg_RMSE\n",
    "    B = total_RMSE - fe_reg_RMSE\n",
    "    C = total_RMSE - rf_RMSE\n",
    "    D = total_RMSE - arima_RMSE\n",
    "    reg_weight = A/(A+B+C+D)\n",
    "    fe_reg_weight = B/(A+B+C+D)\n",
    "    rf_weight = C/(A+B+C+D)\n",
    "    arima_weight = D/(A+B+C+D)\n",
    "    \n",
    "    Ensemble_Prediction = pd.DataFrame(columns=[\"Prediction\"])\n",
    "    for x in range(0,52):\n",
    "        #print( rf_weight*prediction_rf.iloc[x])\n",
    "        Ensemble_Prediction.loc[x] = pd.DataFrame(prediction_reg.iloc[x]*reg_weight + prediction_fe_regr.iloc[x]*fe_reg_weight + rf_weight*prediction_rf.iloc[x]+prediction_ARIMA.iloc[x]*arima_weight)\n",
    "\n",
    "    \n",
    "    return Ensemble_Prediction"
   ]
  },
  {
   "cell_type": "markdown",
   "metadata": {},
   "source": [
    "##### Final Output\n",
    "\n",
    "- We got the final prediction in dictionary -- converting intor data frame and storing it in csv\n",
    "- Remove negative predictions and replacing it by 0"
   ]
  },
  {
   "cell_type": "code",
   "execution_count": null,
   "metadata": {
    "collapsed": true
   },
   "outputs": [],
   "source": [
    "\n",
    "final_pred=pd.DataFrame.from_dict(prediction)\n",
    "for i in range(0,100):\n",
    "    final_pred.iloc[:,i]=final_pred.iloc[:,i].apply(lambda x: ''.join(str(x1) for x1 in x))\n",
    "#final_pred1=final_pred\n",
    "final_pred=final_pred.astype(float)\n",
    "final_pred[final_pred<0]=0\n",
    "final_pred.transpose().to_csv(\"./Solution.csv\")\n"
   ]
  },
  {
   "cell_type": "markdown",
   "metadata": {},
   "source": [
    "##### According to me, R has better capability to perform time series\n",
    "\n",
    "- Reasons:\n",
    " - Forecast package\n",
    " - Auto Arima which detects p and q value automatically\n",
    " - Variance-Ratio and Random Walk direct test\n",
    "\n",
    "- Anyway, problem can be solved in any language"
   ]
  }
 ],
 "metadata": {
  "anaconda-cloud": {},
  "kernelspec": {
   "display_name": "Python 3",
   "language": "python",
   "name": "python3"
  },
  "language_info": {
   "codemirror_mode": {
    "name": "ipython",
    "version": 3
   },
   "file_extension": ".py",
   "mimetype": "text/x-python",
   "name": "python",
   "nbconvert_exporter": "python",
   "pygments_lexer": "ipython3",
   "version": "3.5.4"
  },
  "widgets": {
   "state": {
    "3f5883a7946c4834acc28bf8bc2c553c": {
     "views": [
      {
       "cell_index": 11
      }
     ]
    },
    "883c3e42fb454f6eb155a0b55577e119": {
     "views": [
      {
       "cell_index": 5
      }
     ]
    }
   },
   "version": "1.2.0"
  }
 },
 "nbformat": 4,
 "nbformat_minor": 2
}
